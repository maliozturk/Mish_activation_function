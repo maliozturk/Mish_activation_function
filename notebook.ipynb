{
 "cells": [
  {
   "cell_type": "code",
   "execution_count": null,
   "metadata": {
    "collapsed": true,
    "ExecuteTime": {
     "start_time": "2023-06-11T23:00:42.661273Z",
     "end_time": "2023-06-11T23:00:45.120997Z"
    }
   },
   "outputs": [],
   "source": [
    "import torch\n",
    "import torch.nn as nn\n",
    "import torch.optim as optim\n",
    "import torchvision\n",
    "import torchvision.transforms as transforms\n",
    "from tqdm import tqdm"
   ]
  },
  {
   "cell_type": "code",
   "execution_count": null,
   "outputs": [],
   "source": [
    "device = torch.device(\"cuda\" if torch.cuda.is_available() else \"cpu\")"
   ],
   "metadata": {
    "collapsed": false,
    "ExecuteTime": {
     "start_time": "2023-06-11T23:00:45.137269Z",
     "end_time": "2023-06-11T23:00:45.153986Z"
    }
   }
  },
  {
   "cell_type": "code",
   "execution_count": null,
   "outputs": [],
   "source": [
    "# Define the CNN model\n",
    "class CNN(nn.Module):\n",
    "    def __init__(self, activation_fn):\n",
    "        super(CNN, self).__init__()\n",
    "        self.activation_fn = activation_fn\n",
    "\n",
    "        self.conv1 = nn.Conv2d(3, 32, kernel_size=3, stride=1, padding=1)\n",
    "        self.conv2 = nn.Conv2d(32, 64, kernel_size=3, stride=1, padding=1)\n",
    "        self.conv3 = nn.Conv2d(64, 128, kernel_size=3, stride=1, padding=1)\n",
    "        self.conv4 = nn.Conv2d(128, 256, kernel_size=3, stride=1, padding=1)\n",
    "        self.conv5 = nn.Conv2d(256, 512, kernel_size=3, stride=1, padding=1)\n",
    "        self.conv6 = nn.Conv2d(512, 512, kernel_size=3, stride=1, padding=1)\n",
    "\n",
    "        self.fc1 = nn.Linear(512, 512)\n",
    "        self.fc2 = nn.Linear(512, 10)\n",
    "\n",
    "    def forward(self, x):\n",
    "        x = self.activation_fn(self.conv1(x))\n",
    "        x = self.activation_fn(self.conv2(x))\n",
    "        x = self.activation_fn(self.conv3(x))\n",
    "        x = self.activation_fn(self.conv4(x))\n",
    "        x = self.activation_fn(self.conv5(x))\n",
    "        x = self.activation_fn(self.conv6(x))\n",
    "\n",
    "        x = torch.mean(x, dim=(2, 3))  # Global average pooling\n",
    "        x = self.activation_fn(self.fc1(x))\n",
    "        x = self.fc2(x)\n",
    "        return x"
   ],
   "metadata": {
    "collapsed": false,
    "ExecuteTime": {
     "start_time": "2023-06-11T23:00:45.809241Z",
     "end_time": "2023-06-11T23:00:45.826528Z"
    }
   }
  },
  {
   "cell_type": "code",
   "execution_count": null,
   "outputs": [],
   "source": [
    "# Define the Mish activation function\n",
    "class Mish(nn.Module):\n",
    "    def __init__(self):\n",
    "        super(Mish, self).__init__()\n",
    "\n",
    "    def forward(self, x):\n",
    "        return x * torch.tanh(nn.functional.softplus(x))\n",
    "\n",
    "# Define the Swish activation function\n",
    "class Swish(nn.Module):\n",
    "    def __init__(self):\n",
    "        super(Swish, self).__init__()\n",
    "\n",
    "    def forward(self, x):\n",
    "        return x * torch.sigmoid(x)"
   ],
   "metadata": {
    "collapsed": false,
    "ExecuteTime": {
     "start_time": "2023-06-11T23:00:47.357367Z",
     "end_time": "2023-06-11T23:00:47.382886Z"
    }
   }
  },
  {
   "cell_type": "code",
   "execution_count": null,
   "outputs": [],
   "source": [
    " # Define the training function\n",
    "def train(model, criterion, optimizer, trainloader, epochs, loss_by_epochs):\n",
    "    model.train()\n",
    "    for epoch in range(epochs):\n",
    "        running_loss = 0.0\n",
    "        for inputs, labels in tqdm(trainloader):\n",
    "            inputs, labels = inputs.to(device), labels.to(device)\n",
    "\n",
    "            optimizer.zero_grad()\n",
    "\n",
    "            outputs = model(inputs)\n",
    "            loss = criterion(outputs, labels)\n",
    "            loss.backward()\n",
    "            optimizer.step()\n",
    "\n",
    "            running_loss += loss.item()\n",
    "\n",
    "        print(f\"Epoch {epoch+1}/{epochs} - Loss: {running_loss / len(trainloader)}\")\n",
    "        loss_by_epochs.append((running_loss / len(trainloader)))\n",
    "    return loss_by_epochs"
   ],
   "metadata": {
    "collapsed": false,
    "ExecuteTime": {
     "start_time": "2023-06-11T23:00:50.282467Z",
     "end_time": "2023-06-11T23:00:50.298055Z"
    }
   }
  },
  {
   "cell_type": "code",
   "execution_count": null,
   "outputs": [],
   "source": [
    "# Set random seed for reproducibility\n",
    "torch.manual_seed(42)\n",
    "\n",
    "# Load and preprocess CIFAR-10 dataset\n",
    "transform = transforms.Compose([\n",
    "    transforms.RandomHorizontalFlip(),\n",
    "    transforms.RandomCrop(32, padding=4),\n",
    "    transforms.ToTensor(),\n",
    "    transforms.Normalize((0.5, 0.5, 0.5), (0.5, 0.5, 0.5))\n",
    "])"
   ],
   "metadata": {
    "collapsed": false,
    "ExecuteTime": {
     "start_time": "2023-06-11T23:00:52.284844Z",
     "end_time": "2023-06-11T23:00:52.318661Z"
    }
   }
  },
  {
   "cell_type": "code",
   "execution_count": null,
   "outputs": [],
   "source": [
    "trainset = torchvision.datasets.CIFAR10(root='./data', train=True, download=True, transform=transform)\n",
    "trainloader = torch.utils.data.DataLoader(trainset, batch_size=128, shuffle=True, num_workers=2)\n",
    "\n",
    "testset = torchvision.datasets.CIFAR10(root='./data', train=False, download=True, transform=transform)\n",
    "testloader = torch.utils.data.DataLoader(testset, batch_size=128, shuffle=False, num_workers=2)\n"
   ],
   "metadata": {
    "collapsed": false,
    "ExecuteTime": {
     "start_time": "2023-06-11T23:00:54.467925Z",
     "end_time": "2023-06-11T23:00:55.739761Z"
    }
   }
  },
  {
   "cell_type": "code",
   "execution_count": null,
   "outputs": [],
   "source": [
    "model_mish = CNN(activation_fn=Mish()).to(device)"
   ],
   "metadata": {
    "collapsed": false,
    "ExecuteTime": {
     "start_time": "2023-06-11T23:30:54.240930Z",
     "end_time": "2023-06-11T23:30:54.315777Z"
    }
   }
  },
  {
   "cell_type": "code",
   "execution_count": null,
   "outputs": [],
   "source": [
    "model_relu = CNN(activation_fn=nn.ReLU()).to(device)"
   ],
   "metadata": {
    "collapsed": false,
    "ExecuteTime": {
     "start_time": "2023-06-11T23:30:54.567828Z",
     "end_time": "2023-06-11T23:30:54.627566Z"
    }
   }
  },
  {
   "cell_type": "code",
   "execution_count": null,
   "outputs": [],
   "source": [
    "model_swish = CNN(activation_fn=Swish()).to(device)"
   ],
   "metadata": {
    "collapsed": false,
    "ExecuteTime": {
     "start_time": "2023-06-11T23:30:54.899343Z",
     "end_time": "2023-06-11T23:30:54.953739Z"
    }
   }
  },
  {
   "cell_type": "code",
   "execution_count": null,
   "outputs": [],
   "source": [
    "# Define the loss function and optimizer\n",
    "num_epochs = 25\n",
    "criterion = nn.CrossEntropyLoss()\n",
    "optimizer_mish = optim.Adam(model_mish.parameters(), lr=0.001)\n",
    "optimizer_relu = optim.Adam(model_relu.parameters(), lr=0.001)\n",
    "optimizer_swish = optim.Adam(model_swish.parameters(), lr=0.001)"
   ],
   "metadata": {
    "collapsed": false,
    "ExecuteTime": {
     "start_time": "2023-06-11T23:30:56.160417Z",
     "end_time": "2023-06-11T23:30:56.180893Z"
    }
   }
  },
  {
   "cell_type": "code",
   "execution_count": null,
   "outputs": [],
   "source": [
    "# Train the model with ReLU activation function\n",
    "print(\"Training the model with ReLU activation function...\")\n",
    "loss_by_epochs_relu = train(model_relu, criterion, optimizer_relu, trainloader, epochs=num_epochs, loss_by_epochs=[])\n"
   ],
   "metadata": {
    "collapsed": false,
    "ExecuteTime": {
     "start_time": "2023-05-09T14:05:51.445421Z",
     "end_time": "2023-05-09T14:43:26.884383Z"
    }
   }
  },
  {
   "cell_type": "code",
   "execution_count": null,
   "outputs": [],
   "source": [
    "print(\"Training the model with Mish activation function...\")\n",
    "loss_by_epochs_mish = train(model_mish, criterion, optimizer_mish, trainloader, epochs=num_epochs, loss_by_epochs=[])"
   ],
   "metadata": {
    "collapsed": false
   }
  },
  {
   "cell_type": "code",
   "execution_count": null,
   "outputs": [],
   "source": [
    "# Train the model with Swish activation function\n",
    "print(\"Training the model with Swish activation function...\")\n",
    "loss_by_epochs_swish = train(model_swish, criterion, optimizer_swish, trainloader, epochs=num_epochs, loss_by_epochs=[])\n"
   ],
   "metadata": {
    "collapsed": false
   }
  },
  {
   "cell_type": "code",
   "execution_count": null,
   "outputs": [],
   "source": [],
   "metadata": {
    "collapsed": false
   }
  },
  {
   "cell_type": "code",
   "execution_count": null,
   "outputs": [],
   "source": [
    "import matplotlib.pyplot as plt\n",
    "\n",
    "plt.figure(figsize=(12,6))\n",
    "xs = range(num_epochs)\n",
    "\n",
    "plt.plot(xs, loss_by_epochs_mish, label='Mish')\n",
    "plt.plot(xs, loss_by_epochs_relu, label='ReLU')\n",
    "plt.plot(xs, loss_by_epochs_swish, label='Swish')\n",
    "plt.title(\"Change in loss values as the models were trained over the 25 epochs.\")\n",
    "plt.xlabel(\"Epochs (1-25)\")\n",
    "plt.ylabel(\"Corresponding loss values\")\n",
    "plt.legend()\n",
    "\n",
    "plt.plot()\n",
    "\n",
    "\n"
   ],
   "metadata": {
    "collapsed": false
   }
  },
  {
   "cell_type": "code",
   "execution_count": null,
   "outputs": [],
   "source": [
    "# Evaluate the models on the test set\n",
    "def evaluate(model, dataloader):\n",
    "    model.eval()\n",
    "    correct = 0\n",
    "    total = 0\n",
    "    with torch.no_grad():\n",
    "        for inputs, labels in dataloader:\n",
    "            inputs, labels = inputs.to(device), labels.to(device)\n",
    "            outputs = model(inputs)\n",
    "            _, predicted = torch.max(outputs.data, 1)\n",
    "            total += labels.size(0)\n",
    "            correct += (predicted == labels).sum().item()\n",
    "    accuracy = 100 * correct / total\n",
    "    return accuracy"
   ],
   "metadata": {
    "collapsed": false,
    "ExecuteTime": {
     "start_time": "2023-05-09T14:43:26.884383Z",
     "end_time": "2023-05-09T14:43:26.898395Z"
    }
   }
  },
  {
   "cell_type": "code",
   "execution_count": null,
   "outputs": [],
   "source": [
    "accuracy_mish = evaluate(model_mish, testloader)\n",
    "accuracy_relu = evaluate(model_relu, testloader)\n",
    "accuracy_swish = evaluate(model_swish, testloader)\n",
    "\n",
    "print(f\"Accuracy of the model with Mish activation function: {accuracy_mish}%\")\n",
    "print(f\"Accuracy of the model with ReLU activation function: {accuracy_relu}%\")\n",
    "print(f\"Accuracy of the model with Swish activation function: {accuracy_swish}%\")"
   ],
   "metadata": {
    "collapsed": false,
    "ExecuteTime": {
     "start_time": "2023-05-09T14:43:26.898395Z",
     "end_time": "2023-05-09T14:43:49.453821Z"
    }
   }
  },
  {
   "cell_type": "code",
   "execution_count": null,
   "outputs": [],
   "source": [
    "torch.save(model_relu, \"modelrelu_cifar.pth\")\n",
    "torch.save(model_relu.state_dict(), \"modelrelu_cifar_statedict.pth\")"
   ],
   "metadata": {
    "collapsed": false,
    "ExecuteTime": {
     "start_time": "2023-05-09T17:21:38.098554Z",
     "end_time": "2023-05-09T17:21:38.284501Z"
    }
   }
  },
  {
   "cell_type": "code",
   "execution_count": null,
   "outputs": [],
   "source": [
    "torch.save(model_mish, \"model_mish_cifar.pth\")\n",
    "torch.save(model_mish.state_dict(), \"model_mish_cifar_statedict.pth\")"
   ],
   "metadata": {
    "collapsed": false,
    "ExecuteTime": {
     "start_time": "2023-05-09T17:22:07.725939Z",
     "end_time": "2023-05-09T17:22:07.804784Z"
    }
   }
  },
  {
   "cell_type": "code",
   "execution_count": null,
   "outputs": [],
   "source": [
    "torch.save(model_swish, \"model_swish_cifar.pth\")\n",
    "torch.save(model_swish.state_dict(), \"model_swish_cifar_statedict.pth\")"
   ],
   "metadata": {
    "collapsed": false
   }
  },
  {
   "cell_type": "code",
   "execution_count": null,
   "outputs": [],
   "source": [],
   "metadata": {
    "collapsed": false
   }
  }
 ],
 "metadata": {
  "kernelspec": {
   "display_name": "Python 3",
   "language": "python",
   "name": "python3"
  },
  "language_info": {
   "codemirror_mode": {
    "name": "ipython",
    "version": 2
   },
   "file_extension": ".py",
   "mimetype": "text/x-python",
   "name": "python",
   "nbconvert_exporter": "python",
   "pygments_lexer": "ipython2",
   "version": "2.7.6"
  }
 },
 "nbformat": 4,
 "nbformat_minor": 0
}
